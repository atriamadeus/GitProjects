{
 "cells": [
  {
   "cell_type": "code",
   "execution_count": 1,
   "metadata": {
    "ExecuteTime": {
     "end_time": "2018-05-28T14:00:28.339030Z",
     "start_time": "2018-05-28T14:00:12.047541Z"
    }
   },
   "outputs": [],
   "source": [
    "import pandas as pd"
   ]
  },
  {
   "cell_type": "markdown",
   "metadata": {},
   "source": [
    "# Quarter 1:"
   ]
  },
  {
   "cell_type": "code",
   "execution_count": 2,
   "metadata": {
    "ExecuteTime": {
     "end_time": "2018-05-28T14:00:50.915767Z",
     "start_time": "2018-05-28T14:00:28.339030Z"
    }
   },
   "outputs": [],
   "source": [
    "db1b_1=pd.read_csv('DB1B_MARKET_2017_Q1.csv',usecols=['YEAR','QUARTER','ORIGIN','DEST','TICKET_CARRIER','PASSENGERS','MARKET_MILES_FLOWN'])"
   ]
  },
  {
   "cell_type": "code",
   "execution_count": 3,
   "metadata": {
    "ExecuteTime": {
     "end_time": "2018-05-28T14:00:51.011448Z",
     "start_time": "2018-05-28T14:00:50.917769Z"
    }
   },
   "outputs": [
    {
     "data": {
      "text/html": [
       "<div>\n",
       "<style scoped>\n",
       "    .dataframe tbody tr th:only-of-type {\n",
       "        vertical-align: middle;\n",
       "    }\n",
       "\n",
       "    .dataframe tbody tr th {\n",
       "        vertical-align: top;\n",
       "    }\n",
       "\n",
       "    .dataframe thead th {\n",
       "        text-align: right;\n",
       "    }\n",
       "</style>\n",
       "<table border=\"1\" class=\"dataframe\">\n",
       "  <thead>\n",
       "    <tr style=\"text-align: right;\">\n",
       "      <th></th>\n",
       "      <th>YEAR</th>\n",
       "      <th>QUARTER</th>\n",
       "      <th>ORIGIN</th>\n",
       "      <th>DEST</th>\n",
       "      <th>TICKET_CARRIER</th>\n",
       "      <th>PASSENGERS</th>\n",
       "      <th>MARKET_MILES_FLOWN</th>\n",
       "    </tr>\n",
       "  </thead>\n",
       "  <tbody>\n",
       "    <tr>\n",
       "      <th>0</th>\n",
       "      <td>2017</td>\n",
       "      <td>1</td>\n",
       "      <td>ABE</td>\n",
       "      <td>DTW</td>\n",
       "      <td>DL</td>\n",
       "      <td>1.0</td>\n",
       "      <td>425.0</td>\n",
       "    </tr>\n",
       "    <tr>\n",
       "      <th>1</th>\n",
       "      <td>2017</td>\n",
       "      <td>1</td>\n",
       "      <td>ABE</td>\n",
       "      <td>DTW</td>\n",
       "      <td>DL</td>\n",
       "      <td>1.0</td>\n",
       "      <td>425.0</td>\n",
       "    </tr>\n",
       "    <tr>\n",
       "      <th>2</th>\n",
       "      <td>2017</td>\n",
       "      <td>1</td>\n",
       "      <td>ABE</td>\n",
       "      <td>DTW</td>\n",
       "      <td>DL</td>\n",
       "      <td>1.0</td>\n",
       "      <td>425.0</td>\n",
       "    </tr>\n",
       "    <tr>\n",
       "      <th>3</th>\n",
       "      <td>2017</td>\n",
       "      <td>1</td>\n",
       "      <td>ABE</td>\n",
       "      <td>DTW</td>\n",
       "      <td>DL</td>\n",
       "      <td>1.0</td>\n",
       "      <td>425.0</td>\n",
       "    </tr>\n",
       "    <tr>\n",
       "      <th>4</th>\n",
       "      <td>2017</td>\n",
       "      <td>1</td>\n",
       "      <td>DTW</td>\n",
       "      <td>ABE</td>\n",
       "      <td>DL</td>\n",
       "      <td>1.0</td>\n",
       "      <td>425.0</td>\n",
       "    </tr>\n",
       "  </tbody>\n",
       "</table>\n",
       "</div>"
      ],
      "text/plain": [
       "   YEAR  QUARTER ORIGIN DEST TICKET_CARRIER  PASSENGERS  MARKET_MILES_FLOWN\n",
       "0  2017        1    ABE  DTW             DL         1.0               425.0\n",
       "1  2017        1    ABE  DTW             DL         1.0               425.0\n",
       "2  2017        1    ABE  DTW             DL         1.0               425.0\n",
       "3  2017        1    ABE  DTW             DL         1.0               425.0\n",
       "4  2017        1    DTW  ABE             DL         1.0               425.0"
      ]
     },
     "execution_count": 3,
     "metadata": {},
     "output_type": "execute_result"
    }
   ],
   "source": [
    "db1b_1.head()"
   ]
  },
  {
   "cell_type": "code",
   "execution_count": 4,
   "metadata": {
    "ExecuteTime": {
     "end_time": "2018-05-28T14:06:39.948861Z",
     "start_time": "2018-05-28T14:06:39.317215Z"
    }
   },
   "outputs": [],
   "source": [
    "db1b_filtered_1=db1b_1.loc[db1b_1[\"PASSENGERS\"]>=40]"
   ]
  },
  {
   "cell_type": "code",
   "execution_count": 7,
   "metadata": {
    "ExecuteTime": {
     "end_time": "2018-05-28T14:12:48.558295Z",
     "start_time": "2018-05-28T14:12:48.458038Z"
    }
   },
   "outputs": [],
   "source": [
    "db1b_q1=db1b_filtered_1.groupby(['YEAR','QUARTER','ORIGIN','DEST','TICKET_CARRIER','MARKET_MILES_FLOWN']).agg({'PASSENGERS':sum}).reset_index()"
   ]
  },
  {
   "cell_type": "code",
   "execution_count": 8,
   "metadata": {
    "ExecuteTime": {
     "end_time": "2018-05-28T14:12:57.523818Z",
     "start_time": "2018-05-28T14:12:57.492568Z"
    }
   },
   "outputs": [
    {
     "data": {
      "text/html": [
       "<div>\n",
       "<style scoped>\n",
       "    .dataframe tbody tr th:only-of-type {\n",
       "        vertical-align: middle;\n",
       "    }\n",
       "\n",
       "    .dataframe tbody tr th {\n",
       "        vertical-align: top;\n",
       "    }\n",
       "\n",
       "    .dataframe thead th {\n",
       "        text-align: right;\n",
       "    }\n",
       "</style>\n",
       "<table border=\"1\" class=\"dataframe\">\n",
       "  <thead>\n",
       "    <tr style=\"text-align: right;\">\n",
       "      <th></th>\n",
       "      <th>YEAR</th>\n",
       "      <th>QUARTER</th>\n",
       "      <th>ORIGIN</th>\n",
       "      <th>DEST</th>\n",
       "      <th>TICKET_CARRIER</th>\n",
       "      <th>MARKET_MILES_FLOWN</th>\n",
       "      <th>PASSENGERS</th>\n",
       "    </tr>\n",
       "  </thead>\n",
       "  <tbody>\n",
       "    <tr>\n",
       "      <th>0</th>\n",
       "      <td>2017</td>\n",
       "      <td>1</td>\n",
       "      <td>ABQ</td>\n",
       "      <td>DAL</td>\n",
       "      <td>WN</td>\n",
       "      <td>580.0</td>\n",
       "      <td>604.0</td>\n",
       "    </tr>\n",
       "    <tr>\n",
       "      <th>1</th>\n",
       "      <td>2017</td>\n",
       "      <td>1</td>\n",
       "      <td>ABQ</td>\n",
       "      <td>DEN</td>\n",
       "      <td>WN</td>\n",
       "      <td>349.0</td>\n",
       "      <td>187.0</td>\n",
       "    </tr>\n",
       "    <tr>\n",
       "      <th>2</th>\n",
       "      <td>2017</td>\n",
       "      <td>1</td>\n",
       "      <td>ABQ</td>\n",
       "      <td>LAS</td>\n",
       "      <td>WN</td>\n",
       "      <td>486.0</td>\n",
       "      <td>601.0</td>\n",
       "    </tr>\n",
       "    <tr>\n",
       "      <th>3</th>\n",
       "      <td>2017</td>\n",
       "      <td>1</td>\n",
       "      <td>ABQ</td>\n",
       "      <td>LAX</td>\n",
       "      <td>WN</td>\n",
       "      <td>677.0</td>\n",
       "      <td>406.0</td>\n",
       "    </tr>\n",
       "    <tr>\n",
       "      <th>4</th>\n",
       "      <td>2017</td>\n",
       "      <td>1</td>\n",
       "      <td>ABQ</td>\n",
       "      <td>OAK</td>\n",
       "      <td>WN</td>\n",
       "      <td>889.0</td>\n",
       "      <td>187.0</td>\n",
       "    </tr>\n",
       "  </tbody>\n",
       "</table>\n",
       "</div>"
      ],
      "text/plain": [
       "   YEAR  QUARTER ORIGIN DEST TICKET_CARRIER  MARKET_MILES_FLOWN  PASSENGERS\n",
       "0  2017        1    ABQ  DAL             WN               580.0       604.0\n",
       "1  2017        1    ABQ  DEN             WN               349.0       187.0\n",
       "2  2017        1    ABQ  LAS             WN               486.0       601.0\n",
       "3  2017        1    ABQ  LAX             WN               677.0       406.0\n",
       "4  2017        1    ABQ  OAK             WN               889.0       187.0"
      ]
     },
     "execution_count": 8,
     "metadata": {},
     "output_type": "execute_result"
    }
   ],
   "source": [
    "db1b_q1.head()"
   ]
  },
  {
   "cell_type": "markdown",
   "metadata": {},
   "source": [
    "# Quarter 4:"
   ]
  },
  {
   "cell_type": "code",
   "execution_count": null,
   "metadata": {},
   "outputs": [],
   "source": [
    "db1b_4=pd.read+csv('DB1B_MARKET_2017_Q4.csv',usecols=[''])"
   ]
  }
 ],
 "metadata": {
  "kernelspec": {
   "display_name": "Python 3",
   "language": "python",
   "name": "python3"
  },
  "language_info": {
   "codemirror_mode": {
    "name": "ipython",
    "version": 3
   },
   "file_extension": ".py",
   "mimetype": "text/x-python",
   "name": "python",
   "nbconvert_exporter": "python",
   "pygments_lexer": "ipython3",
   "version": "3.6.5"
  }
 },
 "nbformat": 4,
 "nbformat_minor": 2
}
